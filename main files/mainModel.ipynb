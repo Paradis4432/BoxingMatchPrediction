{
 "cells": [
  {
   "cell_type": "code",
   "execution_count": 4,
   "metadata": {},
   "outputs": [],
   "source": [
    "class MyClass:\n",
    "    x = 5\n"
   ]
  },
  {
   "cell_type": "code",
   "execution_count": 5,
   "metadata": {},
   "outputs": [
    {
     "name": "stdout",
     "output_type": "stream",
     "text": [
      "5\n"
     ]
    }
   ],
   "source": [
    "p1 = MyClass()\n",
    "print(p1.x)"
   ]
  },
  {
   "cell_type": "code",
   "execution_count": 6,
   "metadata": {},
   "outputs": [
    {
     "data": {
      "text/plain": [
       "7"
      ]
     },
     "execution_count": 6,
     "metadata": {},
     "output_type": "execute_result"
    }
   ],
   "source": [
    "class test:\n",
    "    def __init__(self, num):\n",
    "        self.x = num\n",
    "    def add(self, num):\n",
    "        self.x += num\n",
    "    def sub(self, num):\n",
    "        self.x -= num\n",
    "    def mul(self, num):\n",
    "        self.x *= num\n",
    "    def div(self, num):\n",
    "        self.x /= num\n",
    "    def get(a):\n",
    "        return a.x\n",
    "\n",
    "c = test(5)\n",
    "\n",
    "c.add(2)\n",
    "\n",
    "c.get()\n"
   ]
  },
  {
   "cell_type": "code",
   "execution_count": 7,
   "metadata": {},
   "outputs": [],
   "source": [
    "import numpy as np\n",
    "from sklearn.model_selection import train_test_split\n"
   ]
  },
  {
   "cell_type": "code",
   "execution_count": null,
   "metadata": {},
   "outputs": [],
   "source": []
  },
  {
   "cell_type": "code",
   "execution_count": 8,
   "metadata": {},
   "outputs": [],
   "source": [
    "\n",
    "class modelManager:\n",
    "    \"\"\"\n",
    "    This is a class to manage the different models, to have the same train test split when using multiple models\n",
    "    Takes the full dataframe, X and target y as input\n",
    "    \"\"\"\n",
    "    def __init__(self, data, X, y) -> None:\n",
    "        self.data = data\n",
    "        self.X_train, self.X_test, self.y_train, self.y_test = train_test_split(X, y, test_size=0.2, random_state=42)\n",
    "\n",
    "    \"\"\"\n",
    "    This functions will return fitted models with the train test split\n",
    "    \"\"\"\n",
    "    def decisionTree(self) -> dict:\n",
    "        from sklearn.tree import DecisionTreeClassifier\n",
    "        model = DecisionTreeClassifier()\n",
    "        model.fit(self.X_train, self.y_train)\n",
    "        return {\"model\": model, \"X_train\": self.X_train, \"X_test\": self.X_test, \"y_train\": self.y_train, \"y_test\": self.y_test}\n",
    "    def naiveBayes(self) -> dict:\n",
    "        # make a naive bayes model\n",
    "        from sklearn.naive_bayes import GaussianNB\n",
    "        model = GaussianNB()\n",
    "        model.fit(self.X_train, self.y_train)\n",
    "        return {\"model\": model, \"X_train\": self.X_train, \"X_test\": self.X_test, \"y_train\": self.y_train, \"y_test\": self.y_test}\n",
    "    def randomForest(self) -> dict:\n",
    "        from sklearn.ensemble import RandomForestClassifier\n",
    "        model = RandomForestClassifier(n_estimators=100)\n",
    "        model.fit(self.X_train, self.y_train)\n",
    "        return {\"model\": model, \"X_train\": self.X_train, \"X_test\": self.X_test, \"y_train\": self.y_train, \"y_test\": self.y_test}\n",
    "    def svm(self) -> dict:\n",
    "        from sklearn.svm import SVC\n",
    "        model = SVC(gamma='auto')\n",
    "        model.fit(self.X_train, self.y_train)\n",
    "        return {\"model\": model, \"X_train\": self.X_train, \"X_test\": self.X_test, \"y_train\": self.y_train, \"y_test\": self.y_test}\n",
    "\n",
    "    \"\"\"\n",
    "    This function will predict the new value and return the accuracy\n",
    "    \"\"\"\n",
    "    def pred(self, model, valueToPred):\n",
    "        acc = accuracy_score(self.y_test, model[\"model\"].predict(self.X_test))\n",
    "\n",
    "        return {\"accuracy\": acc, \"prediction\": model[\"model\"].predict(valueToPred)}\n"
   ]
  },
  {
   "cell_type": "code",
   "execution_count": 1,
   "metadata": {},
   "outputs": [],
   "source": [
    "class modelManager2:\n",
    "\n",
    "    \"\"\"\n",
    "    This class will take X, y and the value toPredict and return a dict with each model and their predictions / accuracy\n",
    "    \"\"\"\n",
    "\n",
    "    def __init__(self, X, y, toPredict) -> None:\n",
    "        self.toPredict = toPredict\n",
    "        self.X_train, self.X_test, self.y_train, self.y_test = train_test_split(\n",
    "            X, y, test_size=0.2, random_state=42)\n",
    "\n",
    "    def decisionTree(self) -> dict:\n",
    "        from sklearn.tree import DecisionTreeClassifier\n",
    "        from sklearn.metrics import accuracy_score\n",
    "        from sklearn.metrics import recall_score\n",
    "\n",
    "        model = DecisionTreeClassifier()\n",
    "        model.fit(self.X_train, self.y_train)\n",
    "        acc = accuracy_score(self.y_test, model.predict(self.X_test))\n",
    "        predicted = model.predict(self.toPredict)\n",
    "\n",
    "        # calculate recall value\n",
    "        recall = recall_score(self.y_test, model.predict(\n",
    "            self.X_test), average='macro')\n",
    "\n",
    "        return {\"model\": model, \"accuracy\": acc, \"prediction\": predicted, \"recall\": recall}\n",
    "\n",
    "    # do the same with the other models\n",
    "    def naiveBayes(self) -> dict:\n",
    "        # make a naive bayes model\n",
    "        from sklearn.naive_bayes import GaussianNB\n",
    "        from sklearn.metrics import accuracy_score\n",
    "        from sklearn.metrics import recall_score\n",
    "\n",
    "        model = GaussianNB()\n",
    "        model.fit(self.X_train, self.y_train)\n",
    "        acc = accuracy_score(self.y_test, model.predict(self.X_test))\n",
    "        predicted = model.predict(self.toPredict)\n",
    "\n",
    "        recall = recall_score(self.y_test, model.predict(\n",
    "            self.X_test), average='macro')\n",
    "\n",
    "        return {\"model\": model, \"accuracy\": acc, \"prediction\": predicted, \"recall\": recall}\n",
    "\n",
    "    def randomForest(self) -> dict:\n",
    "        from sklearn.ensemble import RandomForestClassifier\n",
    "        from sklearn.metrics import accuracy_score\n",
    "        from sklearn.metrics import recall_score\n",
    "\n",
    "        model = RandomForestClassifier(n_estimators=100)\n",
    "        model.fit(self.X_train, self.y_train)\n",
    "        acc = accuracy_score(self.y_test, model.predict(self.X_test))\n",
    "        predicted = model.predict(self.toPredict)\n",
    "\n",
    "        recall = recall_score(self.y_test, model.predict(\n",
    "            self.X_test), average='macro')\n",
    "\n",
    "        return {\"model\": model, \"accuracy\": acc, \"prediction\": predicted, \"recall\": recall}\n",
    "\n",
    "    def svm(self) -> dict:\n",
    "        from sklearn.svm import SVC\n",
    "        from sklearn.metrics import accuracy_score\n",
    "        from sklearn.metrics import recall_score\n",
    "\n",
    "        model = SVC(gamma='auto')\n",
    "        model.fit(self.X_train, self.y_train)\n",
    "        acc = accuracy_score(self.y_test, model.predict(self.X_test))\n",
    "        predicted = model.predict(self.toPredict)\n",
    "\n",
    "        recall = recall_score(self.y_test, model.predict(\n",
    "            self.X_test), average='macro')\n",
    "\n",
    "        return {\"model\": model, \"accuracy\": acc, \"prediction\": predicted, \"recall\": recall}\n",
    "\n",
    "    def findOptimalNeighborsForKNN(X_train, y_train) -> int:\n",
    "        from sklearn.neighbors import KNeighborsClassifier\n",
    "        from sklearn.model_selection import cross_val_score\n",
    "        import pandas as pd\n",
    "\n",
    "        KNN_scores_para_df = []\n",
    "\n",
    "        for i in range(1, 100, 10):\n",
    "            KNN_model = KNeighborsClassifier(n_neighbors=i)\n",
    "            KNN_cv_scores = cross_val_score(KNN_model, X_train, y_train, cv=5)\n",
    "            KNN_dict_row_score = {'score_medio': np.mean(\n",
    "                KNN_cv_scores), 'score_std': np.std(KNN_cv_scores), 'n_neighbours': i}\n",
    "            KNN_scores_para_df.append(KNN_dict_row_score)\n",
    "        scoresKNN = pd.DataFrame(KNN_scores_para_df)\n",
    "        return scoresKNN[scoresKNN[\"score_medio\"] == scoresKNN[\"score_medio\"].max()][\"n_neighbours\"].values[0]\n",
    "\n",
    "    def KNN(self) -> dict:\n",
    "        from sklearn.neighbors import KNeighborsClassifier\n",
    "        from sklearn.metrics import accuracy_score\n",
    "        from sklearn.metrics import recall_score\n",
    "\n",
    "        optimal_neighbors = modelManager2.findOptimalNeighborsForKNN(self.X_train , self.y_train)\n",
    "        print(optimal_neighbors)\n",
    "        model = KNeighborsClassifier(n_neighbors= optimal_neighbors)\n",
    "\n",
    "        model.fit(self.X_train, self.y_train)\n",
    "        acc = accuracy_score(self.y_test, model.predict(self.X_test))\n",
    "        predicted = model.predict(self.toPredict)\n",
    "\n",
    "        recall = recall_score(self.y_test, model.predict(\n",
    "            self.X_test), average='macro')\n",
    "\n",
    "        return {\"model\": model, \"accuracy\": acc, \"prediction\": predicted, \"recall\": recall}\n",
    "\n",
    "    def getPrediction(self) -> dict:\n",
    "        return {\"decisionTree\": self.decisionTree(), \"naiveBayes\": self.naiveBayes(), \"randomForest\": self.randomForest(), \"svm\": self.svm(), \"KNN\": self.KNN()}\n",
    "\n",
    "    def getTrainTest(self) -> dict:\n",
    "        return {\"X_train\": self.X_train, \"X_test\": self.X_test, \"y_train\": self.y_train, \"y_test\": self.y_test}\n"
   ]
  },
  {
   "cell_type": "code",
   "execution_count": 2,
   "metadata": {},
   "outputs": [],
   "source": [
    "import numpy as np\n",
    "class myClass2:\n",
    "    def __init__(self, num) -> np.int64:\n",
    "        print(\"current number is: \", num)\n",
    "        x = self.multi3(num)\n",
    "        print(\"x is: \", x)\n",
    "    def multi3(self, num) -> np.int64:\n",
    "        return num * 3"
   ]
  },
  {
   "cell_type": "code",
   "execution_count": 3,
   "metadata": {},
   "outputs": [
    {
     "name": "stdout",
     "output_type": "stream",
     "text": [
      "current number is:  3\n",
      "x is:  9\n"
     ]
    },
    {
     "data": {
      "text/plain": [
       "<__main__.myClass2 at 0x21fa9d866b0>"
      ]
     },
     "execution_count": 3,
     "metadata": {},
     "output_type": "execute_result"
    }
   ],
   "source": [
    "myClass2(3)"
   ]
  },
  {
   "cell_type": "code",
   "execution_count": null,
   "metadata": {},
   "outputs": [],
   "source": []
  }
 ],
 "metadata": {
  "interpreter": {
   "hash": "dea5d8f8cc29cf9e16293dbdf8747b85e5f69ab66d8365066b488317c9976378"
  },
  "kernelspec": {
   "display_name": "Python 3.10.1 64-bit",
   "language": "python",
   "name": "python3"
  },
  "language_info": {
   "codemirror_mode": {
    "name": "ipython",
    "version": 3
   },
   "file_extension": ".py",
   "mimetype": "text/x-python",
   "name": "python",
   "nbconvert_exporter": "python",
   "pygments_lexer": "ipython3",
   "version": "3.10.1"
  },
  "orig_nbformat": 4
 },
 "nbformat": 4,
 "nbformat_minor": 2
}
