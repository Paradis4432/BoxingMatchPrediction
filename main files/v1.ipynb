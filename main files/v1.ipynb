{
 "cells": [
  {
   "cell_type": "markdown",
   "metadata": {},
   "source": [
    "### TODO:\n",
    "    remove b_draw r_draw columns since all values are null, edit comments"
   ]
  },
  {
   "cell_type": "code",
   "execution_count": 59,
   "metadata": {},
   "outputs": [],
   "source": [
    "import sys\n",
    "del sys.modules['mainModel']\n"
   ]
  },
  {
   "cell_type": "code",
   "execution_count": 60,
   "metadata": {},
   "outputs": [
    {
     "name": "stdout",
     "output_type": "stream",
     "text": [
      "importing Jupyter notebook from mainModel.ipynb\n",
      "5\n",
      "current number is:  3\n",
      "x is:  9\n"
     ]
    }
   ],
   "source": [
    "import import_ipynb\n",
    "import mainData\n",
    "import mainModel\n",
    "\n",
    "import numpy as np\n",
    "import matplotlib.pyplot as plt\n",
    "import seaborn as sns\n",
    "\n",
    "from sklearn.feature_selection import VarianceThreshold"
   ]
  },
  {
   "cell_type": "code",
   "execution_count": 61,
   "metadata": {},
   "outputs": [],
   "source": [
    "# gets clean df with categorical data, 3215 x 140 columns, where only B_draw and R_draw is NaN\n",
    "data = mainData.getCleanDF()"
   ]
  },
  {
   "cell_type": "code",
   "execution_count": 62,
   "metadata": {},
   "outputs": [],
   "source": [
    "X = data.drop(['B_draw', 'R_draw', 'Winner'], axis=1)\n",
    "y = data[\"Winner\"]\n",
    "toPredict = X.head(15)"
   ]
  },
  {
   "cell_type": "code",
   "execution_count": 63,
   "metadata": {},
   "outputs": [
    {
     "name": "stdout",
     "output_type": "stream",
     "text": [
      "91\n"
     ]
    }
   ],
   "source": [
    "model2 = mainModel.modelManager2(X, y, toPredict)\n",
    "predict = model2.getPrediction()\n"
   ]
  },
  {
   "cell_type": "code",
   "execution_count": 64,
   "metadata": {},
   "outputs": [
    {
     "data": {
      "text/plain": [
       "{'decisionTree': {'model': DecisionTreeClassifier(),\n",
       "  'accuracy': 0.536547433903577,\n",
       "  'prediction': array([1, 0, 0, 1, 1, 0, 1, 1, 0, 1, 0, 1, 1, 0, 0], dtype=int64),\n",
       "  'recall': 0.3368030629337162},\n",
       " 'naiveBayes': {'model': GaussianNB(),\n",
       "  'accuracy': 0.49300155520995337,\n",
       "  'prediction': array([0, 0, 2, 1, 1, 1, 1, 1, 1, 1, 1, 2, 1, 0, 1], dtype=int64),\n",
       "  'recall': 0.3386892445420379},\n",
       " 'randomForest': {'model': RandomForestClassifier(),\n",
       "  'accuracy': 0.6220839813374806,\n",
       "  'prediction': array([1, 0, 0, 1, 1, 0, 1, 1, 0, 1, 0, 1, 1, 0, 0], dtype=int64),\n",
       "  'recall': 0.35752994665202764},\n",
       " 'svm': {'model': SVC(gamma='auto'),\n",
       "  'accuracy': 0.6189735614307932,\n",
       "  'prediction': array([0, 0, 0, 0, 0, 0, 0, 0, 0, 0, 0, 0, 0, 0, 0], dtype=int64),\n",
       "  'recall': 0.3333333333333333},\n",
       " 'KNN': {'model': KNeighborsClassifier(n_neighbors=91),\n",
       "  'accuracy': 0.6174183514774495,\n",
       "  'prediction': array([0, 0, 0, 0, 0, 0, 0, 0, 0, 0, 0, 0, 0, 0, 0], dtype=int64),\n",
       "  'recall': 0.33362189096744227}}"
      ]
     },
     "execution_count": 64,
     "metadata": {},
     "output_type": "execute_result"
    }
   ],
   "source": [
    "predict"
   ]
  },
  {
   "cell_type": "code",
   "execution_count": 65,
   "metadata": {},
   "outputs": [
    {
     "name": "stdout",
     "output_type": "stream",
     "text": [
      "0.33999549568571147 0.5776049766718507\n"
     ]
    }
   ],
   "source": [
    "#data.head(15)\n",
    "recall = 0\n",
    "acc = 0\n",
    "for i in predict.keys():\n",
    "    recall += predict[i][\"recall\"]\n",
    "    acc += predict[i][\"accuracy\"]\n",
    "\n",
    "recall /= len(predict)\n",
    "acc /= len(predict)\n",
    "print(recall,acc)"
   ]
  },
  {
   "cell_type": "code",
   "execution_count": 104,
   "metadata": {},
   "outputs": [
    {
     "name": "stdout",
     "output_type": "stream",
     "text": [
      "(15,) (15,)\n"
     ]
    }
   ],
   "source": [
    "predDT = predict[\"randomForest\"][\"prediction\"]\n",
    "realY = y.head(15)\n",
    "print(predDT.shape, y.head(15).shape)"
   ]
  },
  {
   "cell_type": "code",
   "execution_count": 105,
   "metadata": {},
   "outputs": [
    {
     "name": "stdout",
     "output_type": "stream",
     "text": [
      "[[7 0]\n",
      " [0 8]]\n"
     ]
    }
   ],
   "source": [
    "from sklearn.metrics import confusion_matrix\n",
    "cm = confusion_matrix(realY, predDT)\n",
    "print(cm)"
   ]
  },
  {
   "cell_type": "code",
   "execution_count": 110,
   "metadata": {},
   "outputs": [
    {
     "name": "stdout",
     "output_type": "stream",
     "text": [
      "[[6 1]\n",
      " [1 7]]\n",
      "\n",
      "[[3 3 1]\n",
      " [0 7 1]\n",
      " [0 0 0]]\n",
      "\n",
      "[[7 0]\n",
      " [0 8]]\n",
      "\n",
      "[[7 0]\n",
      " [8 0]]\n",
      "\n"
     ]
    }
   ],
   "source": [
    "for i in predict.keys():\n",
    "    print(confusion_matrix(y.head(15), predict[i][\"prediction\"]), end=\"\\n\\n\")"
   ]
  },
  {
   "cell_type": "markdown",
   "metadata": {},
   "source": [
    "# TODO:\n",
    "ROC AOC curve"
   ]
  },
  {
   "cell_type": "markdown",
   "metadata": {},
   "source": []
  }
 ],
 "metadata": {
  "interpreter": {
   "hash": "dea5d8f8cc29cf9e16293dbdf8747b85e5f69ab66d8365066b488317c9976378"
  },
  "kernelspec": {
   "display_name": "Python 3.10.1 64-bit",
   "language": "python",
   "name": "python3"
  },
  "language_info": {
   "codemirror_mode": {
    "name": "ipython",
    "version": 3
   },
   "file_extension": ".py",
   "mimetype": "text/x-python",
   "name": "python",
   "nbconvert_exporter": "python",
   "pygments_lexer": "ipython3",
   "version": "3.10.1"
  },
  "orig_nbformat": 4
 },
 "nbformat": 4,
 "nbformat_minor": 2
}
