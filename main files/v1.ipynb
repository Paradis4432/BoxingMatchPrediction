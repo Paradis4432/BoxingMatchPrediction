{
 "cells": [
  {
   "cell_type": "markdown",
   "metadata": {},
   "source": [
    "### TODO:\n",
    "    remove b_draw r_draw columns since all values are null, edit comments"
   ]
  },
  {
   "cell_type": "code",
   "execution_count": 56,
   "metadata": {},
   "outputs": [],
   "source": [
    "import sys\n",
    "del sys.modules['mainModel']"
   ]
  },
  {
   "cell_type": "code",
   "execution_count": 57,
   "metadata": {},
   "outputs": [
    {
     "name": "stdout",
     "output_type": "stream",
     "text": [
      "importing Jupyter notebook from mainModel.ipynb\n",
      "5\n",
      "current number is:  3\n",
      "x is:  9\n"
     ]
    }
   ],
   "source": [
    "import import_ipynb\n",
    "import mainData\n",
    "import mainModel"
   ]
  },
  {
   "cell_type": "code",
   "execution_count": 58,
   "metadata": {},
   "outputs": [],
   "source": [
    "import numpy as np\n",
    "import matplotlib.pyplot as plt\n",
    "import seaborn as sns\n",
    "\n",
    "from sklearn.feature_selection import VarianceThreshold"
   ]
  },
  {
   "cell_type": "code",
   "execution_count": 59,
   "metadata": {},
   "outputs": [],
   "source": [
    "# gets clean df with categorical data, 3215 x 140 columns, where only B_draw and R_draw is NaN\n",
    "data = mainData.getCleanDF()"
   ]
  },
  {
   "cell_type": "code",
   "execution_count": 60,
   "metadata": {},
   "outputs": [],
   "source": [
    "X = data.drop(['B_draw', 'R_draw', 'Winner'], axis=1)\n",
    "y = data[\"Winner\"]\n",
    "toPredict = X.head(15)"
   ]
  },
  {
   "cell_type": "code",
   "execution_count": 61,
   "metadata": {},
   "outputs": [
    {
     "data": {
      "text/plain": [
       "{'decisionTree': {'model': DecisionTreeClassifier(),\n",
       "  'accuracy': 0.5381026438569206,\n",
       "  'prediction': array([1, 0, 0, 1, 1, 0, 1, 1, 0, 1, 0, 1, 1, 0, 0], dtype=int64),\n",
       "  'recall': 0.34045578030207063},\n",
       " 'naiveBayes': {'model': GaussianNB(),\n",
       "  'accuracy': 0.49300155520995337,\n",
       "  'prediction': array([0, 0, 2, 1, 1, 1, 1, 1, 1, 1, 1, 2, 1, 0, 1], dtype=int64)},\n",
       " 'randomForest': {'model': RandomForestClassifier(),\n",
       "  'accuracy': 0.6345256609642301,\n",
       "  'prediction': array([0, 0, 0, 1, 1, 0, 1, 1, 0, 1, 0, 1, 1, 0, 0], dtype=int64)},\n",
       " 'svm': {'model': SVC(gamma='auto'),\n",
       "  'accuracy': 0.6189735614307932,\n",
       "  'prediction': array([0, 0, 0, 0, 0, 0, 0, 0, 0, 0, 0, 0, 0, 0, 0], dtype=int64)}}"
      ]
     },
     "execution_count": 61,
     "metadata": {},
     "output_type": "execute_result"
    }
   ],
   "source": [
    "model2 = mainModel.modelManager2(X, y, toPredict)\n",
    "predict = model2.getPrediction()\n",
    "predict"
   ]
  },
  {
   "cell_type": "code",
   "execution_count": 70,
   "metadata": {},
   "outputs": [
    {
     "name": "stdout",
     "output_type": "stream",
     "text": [
      "decisionTree\n",
      "{'model': DecisionTreeClassifier(), 'accuracy': 0.5381026438569206, 'prediction': array([1, 0, 0, 1, 1, 0, 1, 1, 0, 1, 0, 1, 1, 0, 0], dtype=int64), 'recall': 0.34045578030207063}\n",
      "\n",
      "\n",
      "naiveBayes\n",
      "{'model': GaussianNB(), 'accuracy': 0.49300155520995337, 'prediction': array([0, 0, 2, 1, 1, 1, 1, 1, 1, 1, 1, 2, 1, 0, 1], dtype=int64)}\n",
      "\n",
      "\n",
      "randomForest\n",
      "{'model': RandomForestClassifier(), 'accuracy': 0.6345256609642301, 'prediction': array([0, 0, 0, 1, 1, 0, 1, 1, 0, 1, 0, 1, 1, 0, 0], dtype=int64)}\n",
      "\n",
      "\n",
      "svm\n",
      "{'model': SVC(gamma='auto'), 'accuracy': 0.6189735614307932, 'prediction': array([0, 0, 0, 0, 0, 0, 0, 0, 0, 0, 0, 0, 0, 0, 0], dtype=int64)}\n",
      "\n",
      "\n"
     ]
    }
   ],
   "source": [
    "#data.head(15)\n",
    "for i in predict.keys():\n",
    "    print(i)\n",
    "    print(predict[i])\n",
    "    print(\"\\n\")"
   ]
  },
  {
   "cell_type": "code",
   "execution_count": null,
   "metadata": {},
   "outputs": [],
   "source": []
  },
  {
   "cell_type": "code",
   "execution_count": null,
   "metadata": {},
   "outputs": [],
   "source": []
  },
  {
   "cell_type": "code",
   "execution_count": null,
   "metadata": {},
   "outputs": [],
   "source": []
  }
 ],
 "metadata": {
  "interpreter": {
   "hash": "dea5d8f8cc29cf9e16293dbdf8747b85e5f69ab66d8365066b488317c9976378"
  },
  "kernelspec": {
   "display_name": "Python 3.10.1 64-bit",
   "language": "python",
   "name": "python3"
  },
  "language_info": {
   "codemirror_mode": {
    "name": "ipython",
    "version": 3
   },
   "file_extension": ".py",
   "mimetype": "text/x-python",
   "name": "python",
   "nbconvert_exporter": "python",
   "pygments_lexer": "ipython3",
   "version": "3.10.1"
  },
  "orig_nbformat": 4
 },
 "nbformat": 4,
 "nbformat_minor": 2
}
