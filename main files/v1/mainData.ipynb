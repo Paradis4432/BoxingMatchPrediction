{
 "cells": [
  {
   "cell_type": "code",
   "execution_count": 1,
   "metadata": {},
   "outputs": [],
   "source": [
    "import pandas as pd\n",
    "import numpy as np\n",
    "import matplotlib.pyplot as plt\n",
    "import seaborn as sns"
   ]
  },
  {
   "cell_type": "code",
   "execution_count": 2,
   "metadata": {},
   "outputs": [],
   "source": [
    "def getData():\n",
    "    data = pd.read_csv('../data/data.csv')\n",
    "\n",
    "    getAllData = False\n",
    "    if getAllData:\n",
    "        #read all 5 csvs files in data named data FIGHTER_STAT UFC_PCA UFC_processed UFC_TEST UFC_TRAIN\n",
    "        data = pd.read_csv('../data/data.csv')\n",
    "        data1 = pd.read_csv('../data/UFC_PCA.csv')\n",
    "        data2 = pd.read_csv('../data/UFC_processed.csv')\n",
    "        data3 = pd.read_csv('../data/UFC_TEST.csv')\n",
    "        data4 = pd.read_csv('../data/UFC_TRAIN.csv')\n",
    "        data5 = pd.read_csv(\"../data/FIGHTER_STAT.csv\")\n",
    "    return data"
   ]
  },
  {
   "cell_type": "code",
   "execution_count": 16,
   "metadata": {},
   "outputs": [],
   "source": [
    "data = getData()"
   ]
  },
  {
   "cell_type": "code",
   "execution_count": 4,
   "metadata": {},
   "outputs": [],
   "source": [
    "def findWinnerByFighterName(name) -> str:\n",
    "    filterR = [col for col in data if col.startswith('R')]\n",
    "    filterB = [col for col in data if col.startswith('B')]\n",
    "    x = data.Winner[data.R_fighter == name]\n",
    "    y = data.Winner[data.B_fighter == name]\n",
    "    return x, y"
   ]
  },
  {
   "cell_type": "code",
   "execution_count": 5,
   "metadata": {},
   "outputs": [],
   "source": [
    "def normalizeData(data) -> pd.DataFrame:\n",
    "    \"\"\"\n",
    "    Normalize data to be between 0 and 1\n",
    "    \"\"\"\n",
    "    return (data - np.min(data)) / (np.max(data) - np.min(data))"
   ]
  },
  {
   "cell_type": "code",
   "execution_count": 6,
   "metadata": {},
   "outputs": [],
   "source": [
    "def getNormalizedDataFrameForModels(dataFrame) -> pd.DataFrame:\n",
    "    \"\"\"\n",
    "    Removes the columns that are not needed for the models\n",
    "    Returns the dataframe normalized\n",
    "    \"\"\"\n",
    "    \n",
    "    #make a copy of data without the columns [ R_fighter B_fighter Referee date location]\n",
    "    dataImportant = dataFrame.drop(['R_fighter', 'B_fighter', 'Referee', 'date', 'location'], axis=1)\n",
    "    dataImportant.dropna(inplace=True)\n",
    "\n",
    "    dataImportant = dataImportant.apply(lambda x: normalizeData(x) if x.dtype == 'int64' else x)\n",
    "    dataImportant = dataImportant.apply(lambda x: normalizeData(x) if x.dtype == 'float64' else x)\n",
    "\n",
    "    return dataImportant"
   ]
  },
  {
   "cell_type": "code",
   "execution_count": 7,
   "metadata": {},
   "outputs": [],
   "source": [
    "dataImpNorm = getNormalizedDataFrameForModels(data)"
   ]
  },
  {
   "cell_type": "code",
   "execution_count": 8,
   "metadata": {},
   "outputs": [],
   "source": [
    "def replaceValues(data):\n",
    "    #replace Red with 0, blue with 1 and draw with 2\n",
    "    data.Winner = data.Winner.replace(['Red', 'Blue', 'Draw'], [0, 1, 2])\n",
    "    #replace Orthodox Southpaw Switch \"Open Stance\" with 0 1 2 and 3\n",
    "    data.R_Stance = data.R_Stance.replace(['Open Stance', 'Switch', 'Orthodox', 'Southpaw'], [0, 1, 2, 3])\n",
    "    data.B_Stance = data.B_Stance.replace(['Open Stance', 'Switch', 'Orthodox', 'Southpaw'], [0, 1, 2, 3])\n",
    "    #replace True with 1 and False with 0\n",
    "    data.title_bout = data.title_bout.astype(int)\n",
    "    return data"
   ]
  },
  {
   "cell_type": "code",
   "execution_count": 9,
   "metadata": {},
   "outputs": [],
   "source": [
    "dataImpNormClean = replaceValues(dataImpNorm)"
   ]
  },
  {
   "cell_type": "code",
   "execution_count": 10,
   "metadata": {},
   "outputs": [],
   "source": [
    "def getDictOfValues(data) -> dict:\n",
    "    \"\"\"\n",
    "    Returns a dictionary of the values of the column\n",
    "    \"\"\"\n",
    "    uniqueDict = {}\n",
    "    cont = 0\n",
    "    for i in data:\n",
    "        if i not in uniqueDict:\n",
    "            uniqueDict[i] = cont\n",
    "            cont += 1\n",
    "    return uniqueDict\n",
    "\n",
    "def replaceValuesWithDict(data) -> pd.DataFrame:\n",
    "    \"\"\"\n",
    "    Replaces the values of a column with the values of the dictionary\n",
    "    \"\"\"\n",
    "    uniqueDict = getDictOfValues(data)\n",
    "\n",
    "    for i in uniqueDict:\n",
    "        try:\n",
    "            data[data == i] = uniqueDict[i]\n",
    "        except Exception as e:\n",
    "            print(e)\n",
    "            \n",
    "    return data\n"
   ]
  },
  {
   "cell_type": "code",
   "execution_count": 11,
   "metadata": {},
   "outputs": [
    {
     "name": "stderr",
     "output_type": "stream",
     "text": [
      "C:\\Users\\Lucas\\AppData\\Local\\Temp/ipykernel_20100/4069535618.py:21: SettingWithCopyWarning: \n",
      "A value is trying to be set on a copy of a slice from a DataFrame\n",
      "\n",
      "See the caveats in the documentation: https://pandas.pydata.org/pandas-docs/stable/user_guide/indexing.html#returning-a-view-versus-a-copy\n",
      "  data[data == i] = uniqueDict[i]\n"
     ]
    }
   ],
   "source": [
    "# this function takes the column and creates a dictionary with the values and the index, then replaces the values with the index\n",
    "dataImpNormClean.weight_class = replaceValuesWithDict(dataImpNormClean.weight_class)\n",
    "dataImpNormClean.weight_class = dataImpNormClean.weight_class.astype(float)"
   ]
  },
  {
   "cell_type": "code",
   "execution_count": 12,
   "metadata": {},
   "outputs": [],
   "source": [
    "def getCleanDF():\n",
    "    return dataImpNormClean"
   ]
  }
 ],
 "metadata": {
  "interpreter": {
   "hash": "0fa1436fe2bfd670cc26339aa4c8ea5e427934545de93852db63c2faf7e982b2"
  },
  "kernelspec": {
   "display_name": "Python 3.9.5 64-bit",
   "language": "python",
   "name": "python3"
  },
  "language_info": {
   "codemirror_mode": {
    "name": "ipython",
    "version": 3
   },
   "file_extension": ".py",
   "mimetype": "text/x-python",
   "name": "python",
   "nbconvert_exporter": "python",
   "pygments_lexer": "ipython3",
   "version": "3.10.1"
  },
  "orig_nbformat": 4
 },
 "nbformat": 4,
 "nbformat_minor": 2
}
