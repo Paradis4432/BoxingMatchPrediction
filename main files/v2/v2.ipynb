{
 "cells": [
  {
   "cell_type": "markdown",
   "metadata": {},
   "source": [
    "### Idea:\n",
    "Instead of taking all data at the same time, since that gets an acc of 60% ish, take \n",
    "each weight individually and use that\n",
    "\n",
    "Models: \n",
    "- Deep Neuronal Network (DNN)\n",
    "- Support Vector Machine (SVM)\n",
    "- Decision Tree (DT)\n",
    "- AdaBoost (AB)\n",
    "- Random Forest (RF)\n",
    "- ExtraTrees (ET)\n",
    "- GradientBoosting (GB)\n",
    "- Multi-Layer Perceptron (MLP)\n",
    "- K-Nearest-Neighbours (KNN)\n",
    "- Logistic Regression (LG)\n",
    "- Linear Discriminatino Analysis (LDA)\n",
    "- XGB\n",
    "\n",
    "And then combine them all into one ensemble model"
   ]
  },
  {
   "cell_type": "code",
   "execution_count": 204,
   "metadata": {},
   "outputs": [],
   "source": [
    "# extra imports\n",
    "import pandas as pd \n",
    "import numpy as np\n",
    "import matplotlib.pyplot as plt\n",
    "import seaborn as sns\n",
    "import os\n",
    "import sys\n",
    "import time\n",
    "import import_ipynb\n",
    "\n",
    "# models\n",
    "\n",
    "# DNN\n",
    "# SVM\n",
    "from sklearn.tree import DecisionTreeClassifier\n",
    "# AB\n",
    "from sklearn.ensemble import RandomForestClassifier\n",
    "# ET\n",
    "# GB\n",
    "# MLP\n",
    "from sklearn.neighbors import KNeighborsClassifier\n",
    "from sklearn.linear_model import LogisticRegression\n",
    "# LDA\n",
    "# XGB\n",
    "from sklearn.linear_model import LinearRegression\n",
    "\n",
    "# others\n",
    "from sklearn.metrics import accuracy_score\n",
    "from sklearn.metrics import recall_score\n",
    "from sklearn.metrics import precision_score\n",
    "from sklearn.metrics import f1_score\n",
    "from sklearn.metrics import roc_auc_score\n",
    "from sklearn.metrics import roc_curve\n",
    "from sklearn.metrics import confusion_matrix\n",
    "from sklearn.metrics import classification_report\n",
    "from sklearn.metrics import mean_squared_error\n",
    "from sklearn.metrics import mean_absolute_error\n",
    "from sklearn.metrics import r2_score\n",
    "\n",
    "from sklearn.preprocessing import label_binarize\n",
    "\n",
    "from sklearn.model_selection import train_test_split\n",
    "from sklearn.model_selection import cross_val_score"
   ]
  },
  {
   "cell_type": "markdown",
   "metadata": {},
   "source": [
    "# Step 1: Data Processing\n",
    "- read and save data\n",
    "- replace empty strings with NaN\n",
    "- fill empty and NaNs values with NaN\n",
    "- remove draw values in Winner (they are highly unlikely to be correct)\n",
    "- replace column values with usable values\n",
    "- select important columns and delete the rest\n",
    "- remove constant columns"
   ]
  },
  {
   "cell_type": "code",
   "execution_count": 205,
   "metadata": {},
   "outputs": [],
   "source": [
    "data = pd.read_csv('../../data/data.csv')"
   ]
  },
  {
   "cell_type": "code",
   "execution_count": 206,
   "metadata": {},
   "outputs": [
    {
     "data": {
      "text/plain": [
       "4"
      ]
     },
     "execution_count": 206,
     "metadata": {},
     "output_type": "execute_result"
    }
   ],
   "source": [
    "data.R_Height_cms.isnull().sum()"
   ]
  },
  {
   "cell_type": "code",
   "execution_count": 207,
   "metadata": {},
   "outputs": [
    {
     "name": "stdout",
     "output_type": "stream",
     "text": [
      "Values in winner: \n",
      " Red     3470\n",
      "Blue    1591\n",
      "Draw      83\n",
      "Name: Winner, dtype: int64\n",
      "\n",
      "Theres  1.6135303265940901 percent of draws in the df, removing\n",
      "Dropping 154 null values in B_Stance\n",
      "Dropping 132 null values in R_Stance\n"
     ]
    }
   ],
   "source": [
    "# replace empty strings and full empty\n",
    "data = data.replace(r'^\\s*$', np.nan, regex=True)\n",
    "data = data.fillna(np.nan)\n",
    "\n",
    "# format data\n",
    "data = data.round(3)\n",
    "\n",
    "# percentage of draw values in data.Winner\n",
    "print(\"Values in winner: \\n\" , data['Winner'].value_counts())\n",
    "per = ((data[\"Winner\"][data.Winner == \"Draw\"].count()) * 100 / data.shape[0])\n",
    "\n",
    "print(\"\\nTheres \" , per , \"percent of draws in the df, removing\")\n",
    "data = data[data.Winner != \"Draw\"]\n",
    "\n",
    "print(f\"Dropping {data.B_Stance.isnull().sum()} null values in B_Stance\")\n",
    "print(f\"Dropping {data.R_Stance.isnull().sum()} null values in R_Stance\")\n",
    "data.dropna(subset=[\"R_Stance\", \"B_Stance\"], inplace=True, axis=0)"
   ]
  },
  {
   "cell_type": "code",
   "execution_count": 208,
   "metadata": {},
   "outputs": [],
   "source": [
    "# transforms string/ object to int64\n",
    "\n",
    "def getDictOfValues(data) -> dict:\n",
    "    \"\"\"\n",
    "    Returns a dictionary of the values of the column\n",
    "    \"\"\"\n",
    "    uniqueDict = {}\n",
    "    cont = 0\n",
    "    for i in data:\n",
    "        if i not in uniqueDict:\n",
    "            uniqueDict[i] = cont\n",
    "            cont += 1\n",
    "    return uniqueDict\n",
    "\n",
    "def replaceValuesWithDict(data) -> pd.DataFrame:\n",
    "    \"\"\"\n",
    "    Replaces the values of a column with the values of the dictionary\n",
    "    \"\"\"\n",
    "    uniqueDict = getDictOfValues(data)\n",
    "\n",
    "    for i in uniqueDict:\n",
    "        try:\n",
    "            data[data == i] = uniqueDict[i]\n",
    "        except Exception as e:\n",
    "            print(e)\n",
    "            \n",
    "    return data\n",
    "\n",
    "toReplace = [\"weight_class\", \"B_Stance\", \"R_Stance\"]\n",
    "\n",
    "for i in toReplace:\n",
    "    data[i] = replaceValuesWithDict(data[i])\n",
    "\n",
    "pd.options.mode.chained_assignment = None\n",
    "data.title_bout = label_binarize(data.title_bout, classes = data.title_bout.unique())\n",
    "data.Winner = label_binarize(data.Winner, classes = data.Winner.unique())\n",
    "\n"
   ]
  },
  {
   "cell_type": "code",
   "execution_count": 209,
   "metadata": {},
   "outputs": [],
   "source": [
    "importantCols = np.array([4,2,1,6,8,10,11,12,37,38,63,65,66,67,68,69,70,71,72,73,74,75,76,77,78,79,104,105,130,132,133,134,135,136,137,138,139,140,141,142,143,144,145]) - 1\n",
    "data = data.iloc[:,importantCols]"
   ]
  },
  {
   "cell_type": "code",
   "execution_count": 210,
   "metadata": {},
   "outputs": [
    {
     "name": "stdout",
     "output_type": "stream",
     "text": [
      "None important columns deleted, new shape:  (4806, 43)\n"
     ]
    }
   ],
   "source": [
    "print(\"None important columns deleted, new shape: \" , data.shape)"
   ]
  },
  {
   "cell_type": "code",
   "execution_count": 211,
   "metadata": {},
   "outputs": [
    {
     "name": "stdout",
     "output_type": "stream",
     "text": [
      "Initial shape: (4806, 43)\n",
      "After removing constant value features: (4806, 41)\n"
     ]
    }
   ],
   "source": [
    "print(\"Initial shape:\", data.shape)\n",
    "def remove_constant_value_features(df):\n",
    "    return [e for e in df.columns if df[e].nunique() == 1]\n",
    "data = data.drop(remove_constant_value_features(data), axis=1)\n",
    "print(\"After removing constant value features:\", data.shape)"
   ]
  },
  {
   "cell_type": "code",
   "execution_count": 212,
   "metadata": {},
   "outputs": [
    {
     "name": "stdout",
     "output_type": "stream",
     "text": [
      "\n",
      "% Missing in 6 Features:\n",
      "B_Height_cms     0.04\n",
      "B_Reach_cms     12.90\n",
      "B_Weight_lbs     0.04\n",
      "R_Reach_cms      5.87\n",
      "B_age            3.16\n",
      "R_age            1.00\n",
      "dtype: float64\n"
     ]
    }
   ],
   "source": [
    "# get percent missing in columns\n",
    "missing = round(data.isnull().sum()/data.shape[0]*100,2)\n",
    "print(f'\\n% Missing in {len(missing[missing > 0])} Features:\\n{missing[missing > 0]}')"
   ]
  },
  {
   "cell_type": "code",
   "execution_count": 213,
   "metadata": {},
   "outputs": [
    {
     "name": "stdout",
     "output_type": "stream",
     "text": [
      "Replacing 2 values in B_Height_cms with the median value\n",
      "Replacing 0 values in R_Height_cms with the median value\n"
     ]
    }
   ],
   "source": [
    "print(f\"Replacing {data.B_Height_cms.isnull().sum()} values in B_Height_cms with the median value\")\n",
    "data.B_Height_cms = data.B_Height_cms.fillna(value=data.B_Height_cms.median())\n",
    "print(f\"Replacing {data.R_Height_cms.isnull().sum()} values in R_Height_cms with the median value\")\n",
    "data.R_Height_cms = data.R_Height_cms.fillna(value=data.R_Height_cms.median())"
   ]
  },
  {
   "cell_type": "code",
   "execution_count": 214,
   "metadata": {},
   "outputs": [],
   "source": [
    "f_hei = list(pd.concat([data[\"B_Height_cms\"], data[\"R_Height_cms\"]]))\n",
    "f_rea = list(pd.concat([data[\"B_Reach_cms\"], data[\"R_Reach_cms\"]]))\n",
    "f_wei = list(pd.concat([data[\"B_Weight_lbs\"], data[\"R_Weight_lbs\"]]))\n",
    "f_measures = pd.DataFrame(data = {\"height\": f_hei, \"reach\": f_rea, \"weight\": f_wei})\n",
    "f_measures.dropna(inplace=True)"
   ]
  },
  {
   "cell_type": "code",
   "execution_count": 215,
   "metadata": {},
   "outputs": [
    {
     "name": "stdout",
     "output_type": "stream",
     "text": [
      "Correlation map between height, reach and weight\n"
     ]
    },
    {
     "data": {
      "image/png": "[encoded data removed]",
      "text/plain": [
       "<Figure size 432x288 with 2 Axes>"
      ]
     },
     "metadata": {
      "needs_background": "light"
     },
     "output_type": "display_data"
    }
   ],
   "source": [
    "print(\"Correlation map between height, reach and weight\")  \n",
    "corr = f_measures.corr()\n",
    "sns.heatmap(corr,\n",
    "            xticklabels=corr.columns.values,\n",
    "            yticklabels=corr.columns.values,\n",
    "            annot=True,\n",
    "            cmap=\"YlGnBu\")\n",
    "plt.show()\n"
   ]
  },
  {
   "cell_type": "code",
   "execution_count": 216,
   "metadata": {},
   "outputs": [
    {
     "name": "stdout",
     "output_type": "stream",
     "text": [
      "Predicting reach based on height using linear regression\n"
     ]
    }
   ],
   "source": [
    "print(\"Predicting reach based on height using linear regression\")\n",
    "X = f_measures[\"height\"].values.reshape(-1, 1)\n",
    "y = f_measures[\"reach\"].values\n",
    "X_train, X_test, y_train, y_test = train_test_split(X, y, test_size=0.2, random_state=0)\n",
    "model = LinearRegression()\n",
    "model.fit(X_train, y_train)\n",
    "\n",
    "def predict_with_lr(arr):\n",
    "    return model.predict(np.array(arr.tolist()).reshape(-1,1))\n",
    "\n",
    "data[\"R_Reach_cms\"][pd.isna(data[\"R_Reach_cms\"])] = predict_with_lr(data[pd.isna(data[\"R_Reach_cms\"])][\"R_Height_cms\"])\n",
    "data[\"B_Reach_cms\"][pd.isna(data[\"B_Reach_cms\"])] = predict_with_lr(data[pd.isna(data[\"B_Reach_cms\"])][\"B_Height_cms\"])\n",
    "            "
   ]
  },
  {
   "cell_type": "code",
   "execution_count": 217,
   "metadata": {},
   "outputs": [
    {
     "name": "stdout",
     "output_type": "stream",
     "text": [
      "\n",
      "% Missing in 3 Features:\n",
      "B_Weight_lbs    0.04\n",
      "B_age           3.16\n",
      "R_age           1.00\n",
      "dtype: float64\n"
     ]
    }
   ],
   "source": [
    "missing = round(data.isnull().sum()/data.shape[0]*100,2)\n",
    "print(f'\\n% Missing in {len(missing[missing > 0])} Features:\\n{missing[missing > 0]}')"
   ]
  },
  {
   "cell_type": "code",
   "execution_count": 218,
   "metadata": {},
   "outputs": [
    {
     "name": "stdout",
     "output_type": "stream",
     "text": [
      "Dropping the rest of null values in df, new shape: (4806, 41)\n"
     ]
    }
   ],
   "source": [
    "print(f\"Dropping the rest of null values in df, new shape: {data.shape}\")"
   ]
  },
  {
   "cell_type": "code",
   "execution_count": 220,
   "metadata": {},
   "outputs": [
    {
     "name": "stdout",
     "output_type": "stream",
     "text": [
      "Shuffled data\n"
     ]
    }
   ],
   "source": [
    "# shufle data\n",
    "data = data.sample(frac=1).reset_index(drop=True)\n",
    "print(\"Shuffled data\")"
   ]
  },
  {
   "cell_type": "code",
   "execution_count": 223,
   "metadata": {},
   "outputs": [
    {
     "name": "stdout",
     "output_type": "stream",
     "text": [
      "saving 5% of data for testing and the rest for training\n"
     ]
    }
   ],
   "source": [
    "print(\"saving 5% of data for testing and the rest for training\")\n",
    "test = data.iloc[:int(data.shape[0]*0.05),:]\n",
    "train = data.iloc[int(data.shape[0]*0.05):,:]"
   ]
  },
  {
   "cell_type": "code",
   "execution_count": 230,
   "metadata": {},
   "outputs": [
    {
     "name": "stdout",
     "output_type": "stream",
     "text": [
      "Final shape of df: (4806, 41)\n",
      "Saving (240, 41) for testing and (4566, 41) for training\n"
     ]
    }
   ],
   "source": [
    "print(f\"Final shape of df: {data.shape}\")\n",
    "print(f\"Saving {test.shape} for testing and {train.shape} for training\")\n",
    "\n",
    "test.to_csv(\"../../data/test.csv\", index=False)\n",
    "train.to_csv(\"../../data/train.csv\", index=False)"
   ]
  },
  {
   "cell_type": "markdown",
   "metadata": {},
   "source": [
    "# Step 2: EDA and Data Visualization"
   ]
  },
  {
   "cell_type": "markdown",
   "metadata": {},
   "source": [
    "# Setp 3: Modeling"
   ]
  }
 ],
 "metadata": {
  "interpreter": {
   "hash": "dea5d8f8cc29cf9e16293dbdf8747b85e5f69ab66d8365066b488317c9976378"
  },
  "kernelspec": {
   "display_name": "Python 3.10.1 64-bit",
   "language": "python",
   "name": "python3"
  },
  "language_info": {
   "codemirror_mode": {
    "name": "ipython",
    "version": 3
   },
   "file_extension": ".py",
   "mimetype": "text/x-python",
   "name": "python",
   "nbconvert_exporter": "python",
   "pygments_lexer": "ipython3",
   "version": "3.10.1"
  },
  "orig_nbformat": 4
 },
 "nbformat": 4,
 "nbformat_minor": 2
}
